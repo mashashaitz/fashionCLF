{
 "cells": [
  {
   "cell_type": "markdown",
   "metadata": {},
   "source": [
    "In this part of the notebook I'm handling the libraries"
   ]
  },
  {
   "cell_type": "code",
   "execution_count": 1,
   "metadata": {},
   "outputs": [],
   "source": [
    "from mlxtend.data import loadlocal_mnist\n",
    "import platform"
   ]
  },
  {
   "cell_type": "code",
   "execution_count": 2,
   "metadata": {},
   "outputs": [],
   "source": [
    "import matplotlib.pyplot as plt"
   ]
  },
  {
   "cell_type": "code",
   "execution_count": 3,
   "metadata": {},
   "outputs": [],
   "source": [
    "from tensorflow.keras.models import Sequential\n",
    "from tensorflow.keras.layers import Dense, Dropout, Conv2D, MaxPool2D, Flatten\n",
    "from tensorflow.python.keras.utils import np_utils"
   ]
  },
  {
   "cell_type": "code",
   "execution_count": 4,
   "metadata": {},
   "outputs": [],
   "source": [
    "from numpy.random import seed\n",
    "import tensorflow as tf"
   ]
  },
  {
   "cell_type": "code",
   "execution_count": 5,
   "metadata": {},
   "outputs": [],
   "source": [
    "import numpy as np"
   ]
  },
  {
   "cell_type": "markdown",
   "metadata": {},
   "source": [
    "In this part of the notebook I'm trying to see the data"
   ]
  },
  {
   "cell_type": "code",
   "execution_count": 6,
   "metadata": {},
   "outputs": [],
   "source": [
    "X_train, y_train = loadlocal_mnist(\n",
    "    images_path='fashion/train-images-idx3-ubyte', \n",
    "    labels_path='fashion/train-labels-idx1-ubyte')"
   ]
  },
  {
   "cell_type": "code",
   "execution_count": 7,
   "metadata": {},
   "outputs": [
    {
     "data": {
      "text/plain": [
       "(60000, 784)"
      ]
     },
     "execution_count": 7,
     "metadata": {},
     "output_type": "execute_result"
    }
   ],
   "source": [
    "X_train.shape"
   ]
  },
  {
   "cell_type": "code",
   "execution_count": 8,
   "metadata": {},
   "outputs": [
    {
     "data": {
      "text/plain": [
       "60000"
      ]
     },
     "execution_count": 8,
     "metadata": {},
     "output_type": "execute_result"
    }
   ],
   "source": [
    "X_train.shape[0]"
   ]
  },
  {
   "cell_type": "code",
   "execution_count": 9,
   "metadata": {},
   "outputs": [],
   "source": [
    "X_train = X_train.reshape((60000, 28, 28))"
   ]
  },
  {
   "cell_type": "code",
   "execution_count": 10,
   "metadata": {},
   "outputs": [
    {
     "data": {
      "image/png": "[encoded data removed]",
      "text/plain": [
       "<Figure size 432x288 with 1 Axes>"
      ]
     },
     "metadata": {
      "needs_background": "light"
     },
     "output_type": "display_data"
    }
   ],
   "source": [
    "plt.imshow(X_train[0], cmap=plt.cm.binary)\n",
    "plt.show()"
   ]
  },
  {
   "cell_type": "code",
   "execution_count": 11,
   "metadata": {},
   "outputs": [
    {
     "data": {
      "text/plain": [
       "9"
      ]
     },
     "execution_count": 11,
     "metadata": {},
     "output_type": "execute_result"
    }
   ],
   "source": [
    "y_train[0]"
   ]
  },
  {
   "cell_type": "code",
   "execution_count": 12,
   "metadata": {},
   "outputs": [],
   "source": [
    "X_test, y_test = loadlocal_mnist(\n",
    "    images_path='fashion/t10k-images-idx3-ubyte', \n",
    "    labels_path='fashion/t10k-labels-idx1-ubyte')\n",
    "X_test = X_test.reshape((10000, 28, 28))"
   ]
  },
  {
   "cell_type": "code",
   "execution_count": 13,
   "metadata": {},
   "outputs": [
    {
     "data": {
      "image/png": "[encoded data removed]",
      "text/plain": [
       "<Figure size 432x288 with 1 Axes>"
      ]
     },
     "metadata": {
      "needs_background": "light"
     },
     "output_type": "display_data"
    }
   ],
   "source": [
    "plt.imshow(X_test[0], cmap=plt.cm.binary)\n",
    "plt.show()"
   ]
  },
  {
   "cell_type": "code",
   "execution_count": 14,
   "metadata": {},
   "outputs": [
    {
     "data": {
      "text/plain": [
       "9"
      ]
     },
     "execution_count": 14,
     "metadata": {},
     "output_type": "execute_result"
    }
   ],
   "source": [
    "y_test[0]"
   ]
  },
  {
   "cell_type": "code",
   "execution_count": 15,
   "metadata": {},
   "outputs": [],
   "source": [
    "X_train = X_train.reshape(60000, 28, 28, 1)\n",
    "X_test = X_test.reshape(10000, 28, 28, 1)\n",
    "X_train = X_train.astype('float32')\n",
    "X_test = X_test.astype('float32')"
   ]
  },
  {
   "cell_type": "markdown",
   "metadata": {},
   "source": [
    "Random seed"
   ]
  },
  {
   "cell_type": "code",
   "execution_count": 16,
   "metadata": {},
   "outputs": [],
   "source": [
    "SEED = 123\n",
    "seed(SEED)\n",
    "tf.random.set_seed(SEED)"
   ]
  },
  {
   "cell_type": "markdown",
   "metadata": {},
   "source": [
    "Here I prepare the train test for the model"
   ]
  },
  {
   "cell_type": "code",
   "execution_count": 17,
   "metadata": {},
   "outputs": [],
   "source": [
    "X_train /= 255\n",
    "X_test /= 255"
   ]
  },
  {
   "cell_type": "code",
   "execution_count": 18,
   "metadata": {},
   "outputs": [],
   "source": [
    "n_classes = 10\n",
    "Y_train = np_utils.to_categorical(y_train, n_classes)\n",
    "Y_test = np_utils.to_categorical(y_test, n_classes)"
   ]
  },
  {
   "cell_type": "markdown",
   "metadata": {},
   "source": [
    "Here I build some models to compare how they run"
   ]
  },
  {
   "cell_type": "code",
   "execution_count": 14,
   "metadata": {},
   "outputs": [],
   "source": [
    "model1 = Sequential()\n",
    "model1.add(Conv2D(25, kernel_size=(3,3), strides=(1,1), padding='valid', activation='relu', input_shape=(28,28,1)))\n",
    "model1.add(MaxPool2D(pool_size=(1,1)))\n",
    "model1.add(Flatten())\n",
    "model1.add(Dense(100, activation='relu'))\n",
    "model1.add(Dense(10, activation='softmax'))"
   ]
  },
  {
   "cell_type": "code",
   "execution_count": 15,
   "metadata": {},
   "outputs": [],
   "source": [
    "model1.compile(loss='categorical_crossentropy', metrics=['accuracy'], optimizer='adam')"
   ]
  },
  {
   "cell_type": "code",
   "execution_count": 16,
   "metadata": {},
   "outputs": [
    {
     "name": "stdout",
     "output_type": "stream",
     "text": [
      "Epoch 1/10\n",
      "469/469 [==============================] - 13s 27ms/step - loss: 0.4373 - accuracy: 0.8470 - val_loss: 0.3355 - val_accuracy: 0.8794\n",
      "Epoch 2/10\n",
      "469/469 [==============================] - 13s 27ms/step - loss: 0.2896 - accuracy: 0.8958 - val_loss: 0.3136 - val_accuracy: 0.8843\n",
      "Epoch 3/10\n",
      "469/469 [==============================] - 13s 27ms/step - loss: 0.2421 - accuracy: 0.9133 - val_loss: 0.2883 - val_accuracy: 0.8982\n",
      "Epoch 4/10\n",
      "469/469 [==============================] - 13s 28ms/step - loss: 0.2090 - accuracy: 0.9240 - val_loss: 0.2932 - val_accuracy: 0.8920\n",
      "Epoch 5/10\n",
      "469/469 [==============================] - 13s 28ms/step - loss: 0.1823 - accuracy: 0.9333 - val_loss: 0.2705 - val_accuracy: 0.9070\n",
      "Epoch 6/10\n",
      "469/469 [==============================] - 13s 29ms/step - loss: 0.1578 - accuracy: 0.9426 - val_loss: 0.2802 - val_accuracy: 0.9008\n",
      "Epoch 7/10\n",
      "469/469 [==============================] - 14s 29ms/step - loss: 0.1380 - accuracy: 0.9499 - val_loss: 0.2743 - val_accuracy: 0.9061\n",
      "Epoch 8/10\n",
      "469/469 [==============================] - 13s 29ms/step - loss: 0.1185 - accuracy: 0.9566 - val_loss: 0.2928 - val_accuracy: 0.9054\n",
      "Epoch 9/10\n",
      "469/469 [==============================] - 13s 29ms/step - loss: 0.1034 - accuracy: 0.9628 - val_loss: 0.3048 - val_accuracy: 0.9064\n",
      "Epoch 10/10\n",
      "469/469 [==============================] - 14s 30ms/step - loss: 0.0883 - accuracy: 0.9687 - val_loss: 0.3248 - val_accuracy: 0.9065\n"
     ]
    },
    {
     "data": {
      "text/plain": [
       "<keras.callbacks.History at 0x7fc4db58c910>"
      ]
     },
     "execution_count": 16,
     "metadata": {},
     "output_type": "execute_result"
    }
   ],
   "source": [
    "model1.fit(X_train, Y_train, batch_size=128, epochs=10, validation_data=(X_test, Y_test))"
   ]
  },
  {
   "cell_type": "code",
   "execution_count": 14,
   "metadata": {},
   "outputs": [],
   "source": [
    "model2 = Sequential()\n",
    "model2.add(Conv2D(25, kernel_size=(3,3), strides=(1,1), padding='valid', activation='relu', input_shape=(28,28,1)))\n",
    "model2.add(MaxPool2D(pool_size=(1,1)))\n",
    "model2.add(Conv2D(25, kernel_size=(3,3), strides=(1,1), padding='valid', activation='relu', input_shape=(28,28,1)))\n",
    "model2.add(MaxPool2D(pool_size=(1,1)))\n",
    "model2.add(Flatten())\n",
    "model2.add(Dense(100, activation='relu'))\n",
    "model2.add(Dense(10, activation='softmax'))"
   ]
  },
  {
   "cell_type": "code",
   "execution_count": 15,
   "metadata": {},
   "outputs": [],
   "source": [
    "model2.compile(loss='categorical_crossentropy', metrics=['accuracy'], optimizer='adam')"
   ]
  },
  {
   "cell_type": "code",
   "execution_count": 16,
   "metadata": {},
   "outputs": [
    {
     "name": "stdout",
     "output_type": "stream",
     "text": [
      "Epoch 1/10\n",
      "469/469 [==============================] - 35s 74ms/step - loss: 0.4393 - accuracy: 0.8444 - val_loss: 0.3399 - val_accuracy: 0.8776\n",
      "Epoch 2/10\n",
      "469/469 [==============================] - 35s 75ms/step - loss: 0.2870 - accuracy: 0.8949 - val_loss: 0.3081 - val_accuracy: 0.8855\n",
      "Epoch 3/10\n",
      "469/469 [==============================] - 36s 76ms/step - loss: 0.2374 - accuracy: 0.9147 - val_loss: 0.2733 - val_accuracy: 0.9028\n",
      "Epoch 4/10\n",
      "469/469 [==============================] - 35s 74ms/step - loss: 0.1962 - accuracy: 0.9280 - val_loss: 0.2680 - val_accuracy: 0.9044\n",
      "Epoch 5/10\n",
      "469/469 [==============================] - 38s 81ms/step - loss: 0.1643 - accuracy: 0.9396 - val_loss: 0.2553 - val_accuracy: 0.9127\n",
      "Epoch 6/10\n",
      "469/469 [==============================] - 37s 80ms/step - loss: 0.1348 - accuracy: 0.9503 - val_loss: 0.2553 - val_accuracy: 0.9156\n",
      "Epoch 7/10\n",
      "469/469 [==============================] - 36s 78ms/step - loss: 0.1051 - accuracy: 0.9620 - val_loss: 0.2631 - val_accuracy: 0.9142\n",
      "Epoch 8/10\n",
      "469/469 [==============================] - 37s 78ms/step - loss: 0.0826 - accuracy: 0.9701 - val_loss: 0.2865 - val_accuracy: 0.9165\n",
      "Epoch 9/10\n",
      "469/469 [==============================] - 38s 82ms/step - loss: 0.0641 - accuracy: 0.9770 - val_loss: 0.3130 - val_accuracy: 0.9157\n",
      "Epoch 10/10\n",
      "469/469 [==============================] - 38s 82ms/step - loss: 0.0513 - accuracy: 0.9818 - val_loss: 0.3409 - val_accuracy: 0.9110\n"
     ]
    },
    {
     "data": {
      "text/plain": [
       "<keras.callbacks.History at 0x7fc13b1ceeb0>"
      ]
     },
     "execution_count": 16,
     "metadata": {},
     "output_type": "execute_result"
    }
   ],
   "source": [
    "model2.fit(X_train, Y_train, batch_size=128, epochs=10, validation_data=(X_test, Y_test))"
   ]
  },
  {
   "cell_type": "code",
   "execution_count": 20,
   "metadata": {},
   "outputs": [],
   "source": [
    "model3 = Sequential()\n",
    "model3.add(Conv2D(25, kernel_size=(3,3), strides=(1,1), padding='valid', activation='relu', input_shape=(28,28,1)))\n",
    "model3.add(MaxPool2D(pool_size=(1,1)))\n",
    "model3.add(Conv2D(25, kernel_size=(3,3), strides=(1,1), padding='valid', activation='softmax', input_shape=(28,28,1)))\n",
    "model3.add(MaxPool2D(pool_size=(1,1)))\n",
    "model3.add(Flatten())\n",
    "model3.add(Dense(100, activation='relu'))\n",
    "model3.add(Dense(10, activation='softmax'))"
   ]
  },
  {
   "cell_type": "code",
   "execution_count": 21,
   "metadata": {},
   "outputs": [],
   "source": [
    "model3.compile(loss='categorical_crossentropy', metrics=['accuracy'], optimizer='adam')"
   ]
  },
  {
   "cell_type": "code",
   "execution_count": 22,
   "metadata": {},
   "outputs": [
    {
     "name": "stdout",
     "output_type": "stream",
     "text": [
      "Epoch 1/10\n",
      "469/469 [==============================] - 65s 137ms/step - loss: 0.7055 - accuracy: 0.7480 - val_loss: 0.4376 - val_accuracy: 0.8433\n",
      "Epoch 2/10\n",
      "469/469 [==============================] - 61s 130ms/step - loss: 0.3728 - accuracy: 0.8668 - val_loss: 0.3898 - val_accuracy: 0.8607\n",
      "Epoch 3/10\n",
      "469/469 [==============================] - 66s 140ms/step - loss: 0.3237 - accuracy: 0.8835 - val_loss: 0.3433 - val_accuracy: 0.8754\n",
      "Epoch 4/10\n",
      "469/469 [==============================] - 66s 140ms/step - loss: 0.2972 - accuracy: 0.8924 - val_loss: 0.3240 - val_accuracy: 0.8835\n",
      "Epoch 5/10\n",
      "469/469 [==============================] - 64s 136ms/step - loss: 0.2728 - accuracy: 0.9010 - val_loss: 0.3020 - val_accuracy: 0.8922\n",
      "Epoch 6/10\n",
      "469/469 [==============================] - 67s 143ms/step - loss: 0.2516 - accuracy: 0.9068 - val_loss: 0.2927 - val_accuracy: 0.8977\n",
      "Epoch 7/10\n",
      "469/469 [==============================] - 64s 137ms/step - loss: 0.2327 - accuracy: 0.9144 - val_loss: 0.2868 - val_accuracy: 0.8969\n",
      "Epoch 8/10\n",
      "469/469 [==============================] - 62s 133ms/step - loss: 0.2182 - accuracy: 0.9187 - val_loss: 0.2831 - val_accuracy: 0.8984\n",
      "Epoch 9/10\n",
      "469/469 [==============================] - 62s 132ms/step - loss: 0.2049 - accuracy: 0.9246 - val_loss: 0.2898 - val_accuracy: 0.8984\n",
      "Epoch 10/10\n",
      "469/469 [==============================] - 64s 136ms/step - loss: 0.1907 - accuracy: 0.9301 - val_loss: 0.2891 - val_accuracy: 0.8987\n"
     ]
    },
    {
     "data": {
      "text/plain": [
       "<keras.callbacks.History at 0x7fc4de104790>"
      ]
     },
     "execution_count": 22,
     "metadata": {},
     "output_type": "execute_result"
    }
   ],
   "source": [
    "model3.fit(X_train, Y_train, batch_size=128, epochs=10, validation_data=(X_test, Y_test))"
   ]
  },
  {
   "cell_type": "code",
   "execution_count": 23,
   "metadata": {},
   "outputs": [],
   "source": [
    "model4 = Sequential()\n",
    "model4.add(Conv2D(25, kernel_size=(3,3), strides=(1,1), padding='valid', activation='softmax', input_shape=(28,28,1)))\n",
    "model4.add(MaxPool2D(pool_size=(1,1)))\n",
    "model4.add(Conv2D(25, kernel_size=(3,3), strides=(1,1), padding='valid', activation='softmax', input_shape=(28,28,1)))\n",
    "model4.add(MaxPool2D(pool_size=(1,1)))\n",
    "model4.add(Flatten())\n",
    "model4.add(Dense(100, activation='relu'))\n",
    "model4.add(Dense(10, activation='softmax'))"
   ]
  },
  {
   "cell_type": "code",
   "execution_count": 24,
   "metadata": {},
   "outputs": [],
   "source": [
    "model4.compile(loss='categorical_crossentropy', metrics=['accuracy'], optimizer='adam')"
   ]
  },
  {
   "cell_type": "code",
   "execution_count": 25,
   "metadata": {},
   "outputs": [
    {
     "name": "stdout",
     "output_type": "stream",
     "text": [
      "Epoch 1/10\n",
      "469/469 [==============================] - 66s 138ms/step - loss: 2.3049 - accuracy: 0.0985 - val_loss: 2.3026 - val_accuracy: 0.1000\n",
      "Epoch 2/10\n",
      "469/469 [==============================] - 64s 136ms/step - loss: 2.3027 - accuracy: 0.0967 - val_loss: 2.3026 - val_accuracy: 0.1000\n",
      "Epoch 3/10\n",
      "469/469 [==============================] - 66s 141ms/step - loss: 2.3027 - accuracy: 0.0985 - val_loss: 2.3026 - val_accuracy: 0.1000\n",
      "Epoch 4/10\n",
      "469/469 [==============================] - 66s 140ms/step - loss: 2.3027 - accuracy: 0.0976 - val_loss: 2.3026 - val_accuracy: 0.1000\n",
      "Epoch 5/10\n",
      "469/469 [==============================] - 66s 140ms/step - loss: 2.3027 - accuracy: 0.0971 - val_loss: 2.3026 - val_accuracy: 0.1000\n",
      "Epoch 6/10\n",
      "469/469 [==============================] - 66s 140ms/step - loss: 2.3027 - accuracy: 0.0991 - val_loss: 2.3026 - val_accuracy: 0.1000\n",
      "Epoch 7/10\n",
      "469/469 [==============================] - 63s 134ms/step - loss: 2.3027 - accuracy: 0.0983 - val_loss: 2.3026 - val_accuracy: 0.1000\n",
      "Epoch 8/10\n",
      "469/469 [==============================] - 65s 138ms/step - loss: 2.3027 - accuracy: 0.0983 - val_loss: 2.3026 - val_accuracy: 0.1000\n",
      "Epoch 9/10\n",
      "469/469 [==============================] - 65s 140ms/step - loss: 2.3027 - accuracy: 0.0964 - val_loss: 2.3026 - val_accuracy: 0.1000\n",
      "Epoch 10/10\n",
      "469/469 [==============================] - 62s 132ms/step - loss: 2.3027 - accuracy: 0.0984 - val_loss: 2.3026 - val_accuracy: 0.1000\n"
     ]
    },
    {
     "data": {
      "text/plain": [
       "<keras.callbacks.History at 0x7fc4de81c4f0>"
      ]
     },
     "execution_count": 25,
     "metadata": {},
     "output_type": "execute_result"
    }
   ],
   "source": [
    "model4.fit(X_train, Y_train, batch_size=128, epochs=10, validation_data=(X_test, Y_test))"
   ]
  },
  {
   "cell_type": "code",
   "execution_count": 26,
   "metadata": {},
   "outputs": [],
   "source": [
    "model5 = Sequential()\n",
    "model5.add(Conv2D(25, kernel_size=(3,3), strides=(1,1), padding='valid', activation='softmax', input_shape=(28,28,1)))\n",
    "model5.add(MaxPool2D(pool_size=(1,1)))\n",
    "model5.add(Conv2D(25, kernel_size=(3,3), strides=(1,1), padding='valid', activation='relu', input_shape=(28,28,1)))\n",
    "model5.add(MaxPool2D(pool_size=(1,1)))\n",
    "model5.add(Flatten())\n",
    "model5.add(Dense(100, activation='relu'))\n",
    "model5.add(Dense(10, activation='softmax'))"
   ]
  },
  {
   "cell_type": "code",
   "execution_count": 27,
   "metadata": {},
   "outputs": [],
   "source": [
    "model5.compile(loss='categorical_crossentropy', metrics=['accuracy'], optimizer='adam')"
   ]
  },
  {
   "cell_type": "code",
   "execution_count": 28,
   "metadata": {},
   "outputs": [
    {
     "name": "stdout",
     "output_type": "stream",
     "text": [
      "Epoch 1/10\n",
      "469/469 [==============================] - 61s 129ms/step - loss: 0.7125 - accuracy: 0.7419 - val_loss: 0.5206 - val_accuracy: 0.8117\n",
      "Epoch 2/10\n",
      "469/469 [==============================] - 61s 131ms/step - loss: 0.4560 - accuracy: 0.8340 - val_loss: 0.4558 - val_accuracy: 0.8346\n",
      "Epoch 3/10\n",
      "469/469 [==============================] - 62s 131ms/step - loss: 0.3937 - accuracy: 0.8582 - val_loss: 0.4002 - val_accuracy: 0.8564\n",
      "Epoch 4/10\n",
      "469/469 [==============================] - 62s 131ms/step - loss: 0.3512 - accuracy: 0.8728 - val_loss: 0.3606 - val_accuracy: 0.8698\n",
      "Epoch 5/10\n",
      "469/469 [==============================] - 59s 126ms/step - loss: 0.3172 - accuracy: 0.8852 - val_loss: 0.3340 - val_accuracy: 0.8812\n",
      "Epoch 6/10\n",
      "469/469 [==============================] - 61s 131ms/step - loss: 0.2936 - accuracy: 0.8928 - val_loss: 0.3258 - val_accuracy: 0.8809\n",
      "Epoch 7/10\n",
      "469/469 [==============================] - 62s 131ms/step - loss: 0.2736 - accuracy: 0.8999 - val_loss: 0.3092 - val_accuracy: 0.8856\n",
      "Epoch 8/10\n",
      "469/469 [==============================] - 62s 131ms/step - loss: 0.2583 - accuracy: 0.9045 - val_loss: 0.3063 - val_accuracy: 0.8871\n",
      "Epoch 9/10\n",
      "469/469 [==============================] - 62s 131ms/step - loss: 0.2469 - accuracy: 0.9081 - val_loss: 0.3035 - val_accuracy: 0.8910\n",
      "Epoch 10/10\n",
      "469/469 [==============================] - 62s 132ms/step - loss: 0.2340 - accuracy: 0.9134 - val_loss: 0.3121 - val_accuracy: 0.8874\n"
     ]
    },
    {
     "data": {
      "text/plain": [
       "<keras.callbacks.History at 0x7fc4e5bcc5e0>"
      ]
     },
     "execution_count": 28,
     "metadata": {},
     "output_type": "execute_result"
    }
   ],
   "source": [
    "model5.fit(X_train, Y_train, batch_size=128, epochs=10, validation_data=(X_test, Y_test))"
   ]
  },
  {
   "cell_type": "code",
   "execution_count": 29,
   "metadata": {},
   "outputs": [],
   "source": [
    "model6 = Sequential()\n",
    "model6.add(Conv2D(25, kernel_size=(3,3), strides=(1,1), padding='valid', activation='relu', input_shape=(28,28,1)))\n",
    "model6.add(MaxPool2D(pool_size=(1,1)))\n",
    "model6.add(Conv2D(25, kernel_size=(3,3), strides=(1,1), padding='valid', activation='relu', input_shape=(28,28,1)))\n",
    "model6.add(MaxPool2D(pool_size=(1,1)))\n",
    "model6.add(Conv2D(25, kernel_size=(3,3), strides=(1,1), padding='valid', activation='relu', input_shape=(28,28,1)))\n",
    "model6.add(MaxPool2D(pool_size=(1,1)))\n",
    "model6.add(Flatten())\n",
    "model6.add(Dense(100, activation='relu'))\n",
    "model6.add(Dense(10, activation='softmax'))"
   ]
  },
  {
   "cell_type": "code",
   "execution_count": 30,
   "metadata": {},
   "outputs": [],
   "source": [
    "model6.compile(loss='categorical_crossentropy', metrics=['accuracy'], optimizer='adam')"
   ]
  },
  {
   "cell_type": "code",
   "execution_count": 31,
   "metadata": {},
   "outputs": [
    {
     "name": "stdout",
     "output_type": "stream",
     "text": [
      "Epoch 1/10\n",
      "469/469 [==============================] - 93s 197ms/step - loss: 0.4499 - accuracy: 0.8387 - val_loss: 0.3279 - val_accuracy: 0.8856\n",
      "Epoch 2/10\n",
      "469/469 [==============================] - 81s 173ms/step - loss: 0.2820 - accuracy: 0.8972 - val_loss: 0.2850 - val_accuracy: 0.8960\n",
      "Epoch 3/10\n",
      "469/469 [==============================] - 94s 200ms/step - loss: 0.2283 - accuracy: 0.9166 - val_loss: 0.2586 - val_accuracy: 0.9066\n",
      "Epoch 4/10\n",
      "469/469 [==============================] - 82s 174ms/step - loss: 0.1878 - accuracy: 0.9311 - val_loss: 0.2539 - val_accuracy: 0.9103\n",
      "Epoch 5/10\n",
      "469/469 [==============================] - 83s 176ms/step - loss: 0.1544 - accuracy: 0.9431 - val_loss: 0.2437 - val_accuracy: 0.9162\n",
      "Epoch 6/10\n",
      "469/469 [==============================] - 91s 195ms/step - loss: 0.1201 - accuracy: 0.9566 - val_loss: 0.2551 - val_accuracy: 0.9142\n",
      "Epoch 7/10\n",
      "469/469 [==============================] - 84s 179ms/step - loss: 0.0922 - accuracy: 0.9659 - val_loss: 0.2672 - val_accuracy: 0.9161\n",
      "Epoch 8/10\n",
      "469/469 [==============================] - 82s 175ms/step - loss: 0.0691 - accuracy: 0.9741 - val_loss: 0.3015 - val_accuracy: 0.9121\n",
      "Epoch 9/10\n",
      "469/469 [==============================] - 95s 203ms/step - loss: 0.0493 - accuracy: 0.9819 - val_loss: 0.3666 - val_accuracy: 0.9130\n",
      "Epoch 10/10\n",
      "469/469 [==============================] - 85s 182ms/step - loss: 0.0368 - accuracy: 0.9870 - val_loss: 0.3664 - val_accuracy: 0.9131\n"
     ]
    },
    {
     "data": {
      "text/plain": [
       "<keras.callbacks.History at 0x7fc4c1cbfa30>"
      ]
     },
     "execution_count": 31,
     "metadata": {},
     "output_type": "execute_result"
    }
   ],
   "source": [
    "model6.fit(X_train, Y_train, batch_size=128, epochs=10, validation_data=(X_test, Y_test))"
   ]
  },
  {
   "cell_type": "code",
   "execution_count": 40,
   "metadata": {},
   "outputs": [],
   "source": [
    "model7 = Sequential()\n",
    "model7.add(Conv2D(25, kernel_size=(3,3), strides=(1,1), padding='valid', activation='relu', input_shape=(28,28,1)))\n",
    "model7.add(MaxPool2D(pool_size=(1,1)))\n",
    "model7.add(Conv2D(25, kernel_size=(3,3), strides=(1,1), padding='valid', activation='relu', input_shape=(28,28,1)))\n",
    "model7.add(MaxPool2D(pool_size=(1,1)))\n",
    "model7.add(Conv2D(25, kernel_size=(3,3), strides=(1,1), padding='valid', activation='relu', input_shape=(28,28,1)))\n",
    "model7.add(MaxPool2D(pool_size=(1,1)))\n",
    "model7.add(Flatten())\n",
    "model7.add(Dense(100, activation='relu'))\n",
    "model7.add(Dense(10, activation='softmax'))"
   ]
  },
  {
   "cell_type": "code",
   "execution_count": 41,
   "metadata": {},
   "outputs": [],
   "source": [
    "model7.compile(loss='categorical_crossentropy', metrics=['accuracy'], optimizer='adam')"
   ]
  },
  {
   "cell_type": "code",
   "execution_count": 42,
   "metadata": {},
   "outputs": [
    {
     "name": "stdout",
     "output_type": "stream",
     "text": [
      "Epoch 1/5\n",
      "938/938 [==============================] - 107s 113ms/step - loss: 0.4095 - accuracy: 0.8535 - val_loss: 0.3136 - val_accuracy: 0.8880\n",
      "Epoch 2/5\n",
      "938/938 [==============================] - 120s 128ms/step - loss: 0.2600 - accuracy: 0.9048 - val_loss: 0.2869 - val_accuracy: 0.8986\n",
      "Epoch 3/5\n",
      "938/938 [==============================] - 123s 132ms/step - loss: 0.2064 - accuracy: 0.9245 - val_loss: 0.2515 - val_accuracy: 0.9097\n",
      "Epoch 4/5\n",
      "938/938 [==============================] - 137s 146ms/step - loss: 0.1636 - accuracy: 0.9392 - val_loss: 0.2610 - val_accuracy: 0.9132\n",
      "Epoch 5/5\n",
      "938/938 [==============================] - 127s 135ms/step - loss: 0.1247 - accuracy: 0.9537 - val_loss: 0.2754 - val_accuracy: 0.9118\n"
     ]
    },
    {
     "data": {
      "text/plain": [
       "<keras.callbacks.History at 0x7fc4b28c2e20>"
      ]
     },
     "execution_count": 42,
     "metadata": {},
     "output_type": "execute_result"
    }
   ],
   "source": [
    "model7.fit(X_train, Y_train, batch_size=64, epochs=5, validation_data=(X_test, Y_test))"
   ]
  },
  {
   "cell_type": "code",
   "execution_count": 43,
   "metadata": {},
   "outputs": [],
   "source": [
    "model8 = Sequential()\n",
    "model8.add(Conv2D(25, kernel_size=(3,3), strides=(1,1), padding='valid', activation='relu', input_shape=(28,28,1)))\n",
    "model8.add(MaxPool2D(pool_size=(1,1)))\n",
    "model8.add(Conv2D(25, kernel_size=(3,3), strides=(1,1), padding='valid', activation='relu', input_shape=(28,28,1)))\n",
    "model8.add(MaxPool2D(pool_size=(1,1)))\n",
    "model8.add(Flatten())\n",
    "model8.add(Dense(100, activation='relu'))\n",
    "model8.add(Dense(10, activation='softmax'))"
   ]
  },
  {
   "cell_type": "code",
   "execution_count": 44,
   "metadata": {},
   "outputs": [],
   "source": [
    "model8.compile(loss='categorical_crossentropy', metrics=['accuracy'], optimizer='adam')"
   ]
  },
  {
   "cell_type": "code",
   "execution_count": 45,
   "metadata": {},
   "outputs": [
    {
     "name": "stdout",
     "output_type": "stream",
     "text": [
      "Epoch 1/5\n",
      "938/938 [==============================] - 82s 87ms/step - loss: 0.3993 - accuracy: 0.8576 - val_loss: 0.3175 - val_accuracy: 0.8856\n",
      "Epoch 2/5\n",
      "938/938 [==============================] - 80s 86ms/step - loss: 0.2597 - accuracy: 0.9053 - val_loss: 0.2922 - val_accuracy: 0.8945\n",
      "Epoch 3/5\n",
      "938/938 [==============================] - 75s 80ms/step - loss: 0.2086 - accuracy: 0.9230 - val_loss: 0.2410 - val_accuracy: 0.9113\n",
      "Epoch 4/5\n",
      "938/938 [==============================] - 79s 84ms/step - loss: 0.1679 - accuracy: 0.9387 - val_loss: 0.2437 - val_accuracy: 0.9136\n",
      "Epoch 5/5\n",
      "938/938 [==============================] - 76s 81ms/step - loss: 0.1335 - accuracy: 0.9514 - val_loss: 0.2639 - val_accuracy: 0.9143\n"
     ]
    },
    {
     "data": {
      "text/plain": [
       "<keras.callbacks.History at 0x7fc4b2480e50>"
      ]
     },
     "execution_count": 45,
     "metadata": {},
     "output_type": "execute_result"
    }
   ],
   "source": [
    "model8.fit(X_train, Y_train, batch_size=64, epochs=5, validation_data=(X_test, Y_test))"
   ]
  },
  {
   "cell_type": "markdown",
   "metadata": {},
   "source": [
    "If I compare and contrast those models, model2 gives me the best value for my money"
   ]
  },
  {
   "cell_type": "code",
   "execution_count": 19,
   "metadata": {},
   "outputs": [],
   "source": [
    "callback = tf.keras.callbacks.ModelCheckpoint(filepath=\"cnn_fashion_model2.ckpt\",\n",
    "                                              save_weights_only=True,\n",
    "                                              verbose=1)"
   ]
  },
  {
   "cell_type": "code",
   "execution_count": 20,
   "metadata": {},
   "outputs": [],
   "source": [
    "final_model = Sequential()\n",
    "final_model.add(Conv2D(25, kernel_size=(3,3), strides=(1,1), padding='valid', activation='relu', input_shape=(28,28,1)))\n",
    "final_model.add(MaxPool2D(pool_size=(1,1)))\n",
    "final_model.add(Conv2D(25, kernel_size=(3,3), strides=(1,1), padding='valid', activation='relu', input_shape=(28,28,1)))\n",
    "final_model.add(MaxPool2D(pool_size=(1,1)))\n",
    "final_model.add(Flatten())\n",
    "final_model.add(Dense(100, activation='relu'))\n",
    "final_model.add(Dense(10, activation='softmax'))"
   ]
  },
  {
   "cell_type": "code",
   "execution_count": 21,
   "metadata": {},
   "outputs": [],
   "source": [
    "final_model.compile(loss='categorical_crossentropy', metrics=['accuracy'], optimizer='adam')"
   ]
  },
  {
   "cell_type": "code",
   "execution_count": 22,
   "metadata": {},
   "outputs": [
    {
     "name": "stdout",
     "output_type": "stream",
     "text": [
      "Epoch 1/10\n",
      "469/469 [==============================] - ETA: 0s - loss: 0.4393 - accuracy: 0.8444\n",
      "Epoch 1: saving model to cnn_fashion_model2.ckpt\n",
      "469/469 [==============================] - 39s 83ms/step - loss: 0.4393 - accuracy: 0.8444 - val_loss: 0.3399 - val_accuracy: 0.8776\n",
      "Epoch 2/10\n",
      "469/469 [==============================] - ETA: 0s - loss: 0.2870 - accuracy: 0.8949\n",
      "Epoch 2: saving model to cnn_fashion_model2.ckpt\n",
      "469/469 [==============================] - 47s 99ms/step - loss: 0.2870 - accuracy: 0.8949 - val_loss: 0.3081 - val_accuracy: 0.8855\n",
      "Epoch 3/10\n",
      "469/469 [==============================] - ETA: 0s - loss: 0.2374 - accuracy: 0.9147\n",
      "Epoch 3: saving model to cnn_fashion_model2.ckpt\n",
      "469/469 [==============================] - 65s 139ms/step - loss: 0.2374 - accuracy: 0.9147 - val_loss: 0.2733 - val_accuracy: 0.9028\n",
      "Epoch 4/10\n",
      "469/469 [==============================] - ETA: 0s - loss: 0.1962 - accuracy: 0.9280\n",
      "Epoch 4: saving model to cnn_fashion_model2.ckpt\n",
      "469/469 [==============================] - 55s 118ms/step - loss: 0.1962 - accuracy: 0.9280 - val_loss: 0.2680 - val_accuracy: 0.9044\n",
      "Epoch 5/10\n",
      "469/469 [==============================] - ETA: 0s - loss: 0.1643 - accuracy: 0.9396\n",
      "Epoch 5: saving model to cnn_fashion_model2.ckpt\n",
      "469/469 [==============================] - 51s 108ms/step - loss: 0.1643 - accuracy: 0.9396 - val_loss: 0.2553 - val_accuracy: 0.9127\n",
      "Epoch 6/10\n",
      "469/469 [==============================] - ETA: 0s - loss: 0.1348 - accuracy: 0.9503\n",
      "Epoch 6: saving model to cnn_fashion_model2.ckpt\n",
      "469/469 [==============================] - 56s 120ms/step - loss: 0.1348 - accuracy: 0.9503 - val_loss: 0.2553 - val_accuracy: 0.9156\n",
      "Epoch 7/10\n",
      "469/469 [==============================] - ETA: 0s - loss: 0.1051 - accuracy: 0.9620\n",
      "Epoch 7: saving model to cnn_fashion_model2.ckpt\n",
      "469/469 [==============================] - 59s 125ms/step - loss: 0.1051 - accuracy: 0.9620 - val_loss: 0.2631 - val_accuracy: 0.9142\n",
      "Epoch 8/10\n",
      "469/469 [==============================] - ETA: 0s - loss: 0.0826 - accuracy: 0.9701\n",
      "Epoch 8: saving model to cnn_fashion_model2.ckpt\n",
      "469/469 [==============================] - 53s 112ms/step - loss: 0.0826 - accuracy: 0.9701 - val_loss: 0.2865 - val_accuracy: 0.9165\n",
      "Epoch 9/10\n",
      "469/469 [==============================] - ETA: 0s - loss: 0.0641 - accuracy: 0.9770\n",
      "Epoch 9: saving model to cnn_fashion_model2.ckpt\n",
      "469/469 [==============================] - 55s 117ms/step - loss: 0.0641 - accuracy: 0.9770 - val_loss: 0.3130 - val_accuracy: 0.9157\n",
      "Epoch 10/10\n",
      "469/469 [==============================] - ETA: 0s - loss: 0.0513 - accuracy: 0.9818\n",
      "Epoch 10: saving model to cnn_fashion_model2.ckpt\n",
      "469/469 [==============================] - 56s 119ms/step - loss: 0.0513 - accuracy: 0.9818 - val_loss: 0.3409 - val_accuracy: 0.9110\n"
     ]
    },
    {
     "data": {
      "text/plain": [
       "<keras.callbacks.History at 0x7f9f73e7eee0>"
      ]
     },
     "execution_count": 22,
     "metadata": {},
     "output_type": "execute_result"
    }
   ],
   "source": [
    "final_model.fit(X_train, Y_train, batch_size=128, epochs=10, validation_data=(X_test, Y_test), callbacks=[callback])"
   ]
  },
  {
   "cell_type": "code",
   "execution_count": 23,
   "metadata": {},
   "outputs": [
    {
     "data": {
      "text/plain": [
       "array([9])"
      ]
     },
     "execution_count": 23,
     "metadata": {},
     "output_type": "execute_result"
    }
   ],
   "source": [
    "np.argmax(final_model.predict(X_train[0].reshape((1,28,28,1))), axis=1)"
   ]
  },
  {
   "cell_type": "code",
   "execution_count": 24,
   "metadata": {},
   "outputs": [
    {
     "data": {
      "text/plain": [
       "array([0])"
      ]
     },
     "execution_count": 24,
     "metadata": {},
     "output_type": "execute_result"
    }
   ],
   "source": [
    "np.argmax(final_model.predict(X_train[1].reshape((1,28,28,1))), axis=1)"
   ]
  },
  {
   "cell_type": "code",
   "execution_count": 25,
   "metadata": {},
   "outputs": [
    {
     "data": {
      "text/plain": [
       "array([0])"
      ]
     },
     "execution_count": 25,
     "metadata": {},
     "output_type": "execute_result"
    }
   ],
   "source": [
    "np.argmax(final_model.predict(X_train[2].reshape((1,28,28,1))), axis=1)"
   ]
  },
  {
   "cell_type": "code",
   "execution_count": 26,
   "metadata": {},
   "outputs": [],
   "source": [
    "loaded_model = Sequential()\n",
    "loaded_model.add(Conv2D(25, kernel_size=(3,3), strides=(1,1), padding='valid', activation='relu', input_shape=(28,28,1)))\n",
    "loaded_model.add(MaxPool2D(pool_size=(1,1)))\n",
    "loaded_model.add(Conv2D(25, kernel_size=(3,3), strides=(1,1), padding='valid', activation='relu', input_shape=(28,28,1)))\n",
    "loaded_model.add(MaxPool2D(pool_size=(1,1)))\n",
    "loaded_model.add(Flatten())\n",
    "loaded_model.add(Dense(100, activation='relu'))\n",
    "loaded_model.add(Dense(10, activation='softmax'))"
   ]
  },
  {
   "cell_type": "code",
   "execution_count": 27,
   "metadata": {},
   "outputs": [],
   "source": [
    "loaded_model.compile(loss='categorical_crossentropy', metrics=['accuracy'], optimizer='adam')"
   ]
  },
  {
   "cell_type": "code",
   "execution_count": 28,
   "metadata": {},
   "outputs": [
    {
     "data": {
      "text/plain": [
       "<tensorflow.python.training.tracking.util.CheckpointLoadStatus at 0x7f9f755ab790>"
      ]
     },
     "execution_count": 28,
     "metadata": {},
     "output_type": "execute_result"
    }
   ],
   "source": [
    "loaded_model.load_weights(\"cnn_fashion_model2.ckpt\") "
   ]
  },
  {
   "cell_type": "code",
   "execution_count": 29,
   "metadata": {},
   "outputs": [
    {
     "data": {
      "text/plain": [
       "array([9])"
      ]
     },
     "execution_count": 29,
     "metadata": {},
     "output_type": "execute_result"
    }
   ],
   "source": [
    "np.argmax(loaded_model.predict(X_train[0].reshape((1,28,28,1))), axis=1)"
   ]
  },
  {
   "cell_type": "code",
   "execution_count": 30,
   "metadata": {},
   "outputs": [
    {
     "data": {
      "text/plain": [
       "array([0])"
      ]
     },
     "execution_count": 30,
     "metadata": {},
     "output_type": "execute_result"
    }
   ],
   "source": [
    "np.argmax(loaded_model.predict(X_train[1].reshape((1,28,28,1))), axis=1)"
   ]
  },
  {
   "cell_type": "code",
   "execution_count": 31,
   "metadata": {},
   "outputs": [
    {
     "data": {
      "text/plain": [
       "array([0])"
      ]
     },
     "execution_count": 31,
     "metadata": {},
     "output_type": "execute_result"
    }
   ],
   "source": [
    "np.argmax(loaded_model.predict(X_train[2].reshape((1,28,28,1))), axis=1)"
   ]
  }
 ],
 "metadata": {
  "kernelspec": {
   "display_name": "Python 3",
   "language": "python",
   "name": "python3"
  },
  "language_info": {
   "codemirror_mode": {
    "name": "ipython",
    "version": 3
   },
   "file_extension": ".py",
   "mimetype": "text/x-python",
   "name": "python",
   "nbconvert_exporter": "python",
   "pygments_lexer": "ipython3",
   "version": "3.8.5"
  }
 },
 "nbformat": 4,
 "nbformat_minor": 4
}